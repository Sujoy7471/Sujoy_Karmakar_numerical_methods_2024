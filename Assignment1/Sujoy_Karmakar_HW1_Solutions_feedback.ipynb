{
 "cells": [
  {
   "cell_type": "markdown",
   "metadata": {},
   "source": [
    "## Comments for Q1 to Q5"
   ]
  },
  {
   "cell_type": "markdown",
   "metadata": {},
   "source": [
    "<span style=\"color: red;\"> \n",
    "Q1: 4/4 \n",
    "\n",
    "Q2: 5/5\n",
    "\n",
    "Q3: 14/15 – no documentation\n",
    "\n",
    "Q4: 19/20 – didn’t consider the ‘nan’ case\n",
    "\n",
    "Q5: 2/5 – for 1st part no mention normal or subnormal, 2nd part is wrong\n",
    "\n",
    "</span>"
   ]
  },
  {
   "cell_type": "markdown",
   "metadata": {},
   "source": [
    "# Question 6"
   ]
  },
  {
   "cell_type": "markdown",
   "metadata": {},
   "source": [
    "### @ Solution of the 1st part"
   ]
  },
  {
   "cell_type": "code",
   "execution_count": 4,
   "metadata": {},
   "outputs": [
    {
     "name": "stdout",
     "output_type": "stream",
     "text": [
      "4 ! =  24\n"
     ]
    }
   ],
   "source": [
    "input = 4\n",
    "    ###Given that input is integer but not specified if it is positive or negative\n",
    "\n",
    "def fact(x):\n",
    "    if x < 0:\n",
    "        print(\"Error!!!!! \\n\"\n",
    "              \"Input is negative\")\n",
    "        return\n",
    "    if x ==0:\n",
    "        return 1\n",
    "    if x > 0:\n",
    "        term = x\n",
    "        factorial = 1\n",
    "        while term > 0:\n",
    "            factorial = factorial * term\n",
    "            term = term -1\n",
    "        return factorial\n",
    "    \n",
    "print(input, \"! = \", fact(input))\n"
   ]
  },
  {
   "cell_type": "markdown",
   "metadata": {},
   "source": [
    "## <span style=\"color: red;\"> 5 </span>"
   ]
  },
  {
   "cell_type": "markdown",
   "metadata": {},
   "source": [
    "### @ Solution of the second part"
   ]
  },
  {
   "cell_type": "code",
   "execution_count": 12,
   "metadata": {},
   "outputs": [
    {
     "name": "stdout",
     "output_type": "stream",
     "text": [
      "Exponential of 6.347000 is: 570.7778045295348193\n"
     ]
    }
   ],
   "source": [
    "input = 6.347\n",
    "def expn(x):\n",
    "    term = 1\n",
    "    sum = 1\n",
    "    i = 1\n",
    "    while abs(term) > 1e-16:           ##It will give calculated terms upto 16th term after decimal.\n",
    "        term = (x**i)/fact(i)\n",
    "        sum = sum + term\n",
    "        i = i + 1\n",
    "    return sum\n",
    "\n",
    "value = expn(input)\n",
    "\n",
    "print(\"Exponential of %f is: %.16f\" %(input, value))\n"
   ]
  },
  {
   "cell_type": "markdown",
   "metadata": {},
   "source": [
    "## <span style=\"color: red;\"> 6 termination condition is not same as menttioned in question</span> "
   ]
  },
  {
   "cell_type": "markdown",
   "metadata": {},
   "source": [
    "### @ Solution of the 3rd part"
   ]
  },
  {
   "cell_type": "code",
   "execution_count": 13,
   "metadata": {},
   "outputs": [
    {
     "name": "stdout",
     "output_type": "stream",
     "text": [
      "Exponential of 0.1 is: 1.1051709180756473\n",
      "Time taken for this operation is: 179.807 Mcro Sec\n",
      "Exponential of 20 is: 485165195.4097901582717896\n",
      "Time taken for this operation is: 303.780 Mcro Sec\n"
     ]
    }
   ],
   "source": [
    "import time\n",
    "\n",
    "starttime1 = time.process_time()\n",
    "a = expn(0.1)\n",
    "print(\"Exponential of 0.1 is: %0.16f\" %a)\n",
    "endtime1 = time.process_time()\n",
    "t1 =(endtime1-starttime1)*1e6 \n",
    "print(\"Time taken for this operation is: %.3f Mcro Sec\" %(t1))\n",
    "\n",
    "starttime2 = time.process_time()\n",
    "b = expn(20)\n",
    "print(\"Exponential of 20 is: %0.16f\" %b)\n",
    "endtime2 = time.process_time()\n",
    "t2 =(endtime2-starttime2)*1e6 \n",
    "print(\"Time taken for this operation is: %.3f Mcro Sec\" %(t2))\n"
   ]
  },
  {
   "cell_type": "markdown",
   "metadata": {},
   "source": [
    "## <span style=\"color: red;\"> 2 </span>"
   ]
  },
  {
   "cell_type": "markdown",
   "metadata": {},
   "source": [
    "### @ Solution of the 4th part"
   ]
  },
  {
   "cell_type": "code",
   "execution_count": 14,
   "metadata": {},
   "outputs": [
    {
     "name": "stdout",
     "output_type": "stream",
     "text": [
      "Exponential of 20.000000 is: 485165195.4097902178764343\n",
      "term_array[56] =  0.010134702835402035\n",
      "sum_array[56] =  485165195.4043869\n"
     ]
    }
   ],
   "source": [
    "input = 20\n",
    "\n",
    "def exp_new(x):\n",
    "    term = 1\n",
    "    term_array = [1]\n",
    "    i_array = [0]\n",
    "    sum_array = [1]\n",
    "    sum = 1\n",
    "    i = 1\n",
    "    while abs(term) > 1e-16:            ##It will calculate terms upto 16th term after decimal.\n",
    "        term = term*x/i\n",
    "        term_array.append(term)         ##Stores each iteration term\n",
    "        i_array.append(i)\n",
    "        sum = sum + term\n",
    "        sum_array.append(sum)           ##Stores cumulative sum\n",
    "        i = i + 1\n",
    "\n",
    "    return sum , term_array, sum_array, i_array\n",
    "\n",
    "\n",
    "\n",
    "\n",
    "value , term_array, sum_array , i_array = exp_new(input)\n",
    "print(\"Exponential of %f is: %.16f\" %(input, value))\n",
    "\n",
    "##Here we can get any value of terms in the series and the cumulative sum for each step as we proceed along the series. Because they are getting stored in sum_array and term_array. The example is below,\n",
    "print(\"term_array[56] = \" ,term_array[56])\n",
    "print(\"sum_array[56] = \" ,sum_array[56])"
   ]
  },
  {
   "cell_type": "markdown",
   "metadata": {},
   "source": [
    "## <span style=\"color: red;\"> 8 same termination condition</span>"
   ]
  },
  {
   "cell_type": "markdown",
   "metadata": {},
   "source": [
    "### @ Solution of the 5th part"
   ]
  },
  {
   "cell_type": "code",
   "execution_count": 15,
   "metadata": {},
   "outputs": [
    {
     "name": "stdout",
     "output_type": "stream",
     "text": [
      "Exponential of 0.1 is: 1.1051709180756473\n",
      "Time taken for this operation is: 429.416 Mcro Sec\n",
      "Time taken for this operation in the previous algorithm is: 179.807 Micro Sec\n",
      "\n",
      "\n",
      "Exponential of 20 is: 485165195.40979022\n",
      "Time taken for this operation is: 124.684 Mcro Sec\n",
      "Time taken for this operation in the previous algorithm is: 429.416 Micro Sec\n"
     ]
    }
   ],
   "source": [
    "import time\n",
    "\n",
    "starttime3 = time.process_time()\n",
    "c, c1, c2, c3 = exp_new(0.1)\n",
    "print(\"Exponential of 0.1 is: %0.16f\" %c)\n",
    "endtime3 = time.process_time()\n",
    "t3 =(endtime3-starttime3)*1e6 \n",
    "print(\"Time taken for this operation is: %.3f Mcro Sec\" %(t3))\n",
    "print(\"Time taken for this operation in the previous algorithm is: %0.3f Micro Sec\" %(t1))\n",
    "\n",
    "print('\\n')\n",
    "\n",
    "starttime4 = time.process_time()\n",
    "d, d1, d2, d3 = exp_new(20)\n",
    "print(\"Exponential of 20 is: %0.8f\" %d)\n",
    "endtime4 = time.process_time()\n",
    "t4 =(endtime4-starttime4)*1e6 \n",
    "print(\"Time taken for this operation is: %.3f Mcro Sec\" %(t4))\n",
    "print(\"Time taken for this operation in the previous algorithm is: %0.3f Micro Sec\" %(t3))\n"
   ]
  },
  {
   "cell_type": "markdown",
   "metadata": {},
   "source": [
    "## <span style=\"color: red;\"> 2 </span>"
   ]
  },
  {
   "cell_type": "markdown",
   "metadata": {},
   "source": [
    "### @ Solution of the 6th part"
   ]
  },
  {
   "cell_type": "code",
   "execution_count": 16,
   "metadata": {},
   "outputs": [
    {
     "name": "stdout",
     "output_type": "stream",
     "text": [
      "4.440892098500626e-16\n",
      "1.1920928955078125e-07\n",
      "Discrepancy is at 16 th term after decimal point for exp(0.1)\n",
      "Discrepancy is at 7 th term after decimal point for exp(20)\n"
     ]
    }
   ],
   "source": [
    "import numpy as np\n",
    "\n",
    "u = np.exp(0.1)\n",
    "v = np.exp(20)\n",
    "\n",
    "##Now we use 3rd part of question 6 for values of a and b\n",
    "err1 = abs(u-a)\n",
    "err2 = abs(v-b)\n",
    "\n",
    "print(err1)\n",
    "print(err2)\n",
    "\n",
    "for i in range(17):\n",
    "    if err1*10**i >= 1:\n",
    "        print(\"Discrepancy is at %d th term after decimal point for exp(0.1)\" %i)\n",
    "        break \n",
    "\n",
    "for i in range(17):\n",
    "    if err2*10**i >= 1:\n",
    "        print(\"Discrepancy is at %d th term after decimal point for exp(20)\" %i)\n",
    "        break \n"
   ]
  },
  {
   "cell_type": "markdown",
   "metadata": {},
   "source": [
    "## <span style=\"color: red;\"> 2 </span>"
   ]
  },
  {
   "cell_type": "markdown",
   "metadata": {},
   "source": [
    "### @ Solution of the 7th part"
   ]
  },
  {
   "cell_type": "code",
   "execution_count": 17,
   "metadata": {},
   "outputs": [
    {
     "name": "stdout",
     "output_type": "stream",
     "text": [
      "maxima is around the iteration value: 19\n"
     ]
    },
    {
     "data": {
      "image/png": "[encoded data removed]",
      "text/plain": [
       "<Figure size 640x480 with 1 Axes>"
      ]
     },
     "metadata": {},
     "output_type": "display_data"
    }
   ],
   "source": [
    "##We have to determine the turning point\n",
    "\n",
    "for i in range(1, len(term_array)):\n",
    "    if term_array[i]> term_array[i-1] and term_array[i] >= term_array[i+1]:\n",
    "        maxima = i\n",
    "\n",
    "print(\"maxima is around the iteration value: %d\"  %maxima)\n",
    "plt.plot(i_array, term_array, color = 'blue', linewidth = 1)\n",
    "plt.xlabel(\"Iteration number\")\n",
    "plt.ylabel(\"Series term value\")\n",
    "plt.grid()\n",
    "plt.show()\n"
   ]
  },
  {
   "cell_type": "markdown",
   "metadata": {},
   "source": [
    "## <span style=\"color: red;\"> 9 you are supposed to plot each term as a scatter plot . and please give legend </span>"
   ]
  },
  {
   "cell_type": "markdown",
   "metadata": {},
   "source": [
    "### @ Solution of 8th part"
   ]
  },
  {
   "cell_type": "code",
   "execution_count": 18,
   "metadata": {},
   "outputs": [
    {
     "name": "stdout",
     "output_type": "stream",
     "text": [
      "Calculated exp(-20):  5.621884467407823e-09\n",
      "Real value of exp(-20):  2.061153622438558e-09\n",
      "Percentage error: 172.754\n"
     ]
    }
   ],
   "source": [
    "##Using 4th part\n",
    "\n",
    "exponent, f1, f2 ,f3 = exp_new(-20)\n",
    "true_exp = np.exp(-20)\n",
    "\n",
    "print(\"Calculated exp(-20): \", exponent)\n",
    "print(\"Real value of exp(-20): \" , true_exp)\n",
    "percentage = (exponent - true_exp)/true_exp * 100\n",
    "print(\"Percentage error: %0.3f\" %(percentage))"
   ]
  },
  {
   "cell_type": "markdown",
   "metadata": {},
   "source": [
    ">>>##### Here the error is caused because:"
   ]
  },
  {
   "cell_type": "code",
   "execution_count": 19,
   "metadata": {},
   "outputs": [
    {
     "name": "stdout",
     "output_type": "stream",
     "text": [
      "Exponential of -20.000000 is: 0.0000000056218845\n"
     ]
    },
    {
     "data": {
      "text/plain": [
       "[<matplotlib.lines.Line2D at 0x73141ffcce00>]"
      ]
     },
     "execution_count": 19,
     "metadata": {},
     "output_type": "execute_result"
    },
    {
     "data": {
      "image/png": "[encoded data removed]",
      "text/plain": [
       "<Figure size 640x480 with 2 Axes>"
      ]
     },
     "metadata": {},
     "output_type": "display_data"
    }
   ],
   "source": [
    "##First we plot each term and the cumulative sum by using same code same as question 6.4 . Then we explain.\n",
    "input = -20\n",
    "\n",
    "def exp_new(x):\n",
    "    term = 1\n",
    "    term_array = [1]\n",
    "    i_array = [0]\n",
    "    sum_array = [1]\n",
    "    sum = 1\n",
    "    i = 1\n",
    "    while abs(term) > 1e-16:            ##It will give calculated terms upto 16th term after decimal.\n",
    "        term = term*x/i\n",
    "        term_array.append(term)         ##Stores each iteration term\n",
    "        i_array.append(i)\n",
    "        sum = sum + term\n",
    "        sum_array.append(sum)           ##Stores cumulative sum\n",
    "        i = i + 1\n",
    "\n",
    "    return sum , term_array, sum_array, i_array\n",
    "\n",
    "\n",
    "\n",
    "\n",
    "value , term_array, sum_array , i_array = exp_new(input)\n",
    "print(\"Exponential of %f is: %.16f\" %(input, value))\n",
    "\n",
    "\n",
    "\n",
    "\n",
    "fig = plt.figure()\n",
    "ax = fig.add_subplot(2,2,1)\n",
    "ax.plot(i_array, term_array, color = 'blue')\n",
    "ax = fig.add_subplot(2,2,2)\n",
    "ax.plot(i_array, sum_array, color = 'orange')\n"
   ]
  },
  {
   "cell_type": "markdown",
   "metadata": {},
   "source": [
    "##### Here we can see that the iterative terms are oscillating about horizontal axis with very high amplitude. This is because the taylor series expansion of the exponential function contains $\\frac{x^n}{n!}$ which becomes very large with increment in the 'n'. Thus the error in them also becomes large. \n",
    "##### Now when we are subtracting a large term from another large term (which is happening here as we are adding a positive number to a negative number) the answer itself becomes small but the error doubles. This when continued repitatively, the final error becomes very large. Additionally as exp(-20) is very small, so here the error becomes compatable with the answer. Thus here the discrepancy is creating."
   ]
  },
  {
   "cell_type": "markdown",
   "metadata": {},
   "source": [
    "### @ Solution of 9th part"
   ]
  },
  {
   "cell_type": "markdown",
   "metadata": {},
   "source": [
    "## <span style=\"color: red;\"> 10 </span>"
   ]
  },
  {
   "cell_type": "markdown",
   "metadata": {},
   "source": []
  },
  {
   "cell_type": "markdown",
   "metadata": {},
   "source": [
    ">There is a better way to do this. Here we can first calculate $e^{20}$ which has less error comparatively. Then we take reciprocal of the answer, as, $e^{-20} = \\frac{1}{e^{20}} $"
   ]
  },
  {
   "cell_type": "code",
   "execution_count": 20,
   "metadata": {},
   "outputs": [
    {
     "name": "stdout",
     "output_type": "stream",
     "text": [
      "Exponential of -20 is: 2.0611536224385583e-09\n"
     ]
    }
   ],
   "source": [
    "input = -20\n",
    "\n",
    "def exp_new(x):\n",
    "    term = 1\n",
    "    sum = 1\n",
    "    i = 1\n",
    "    if x == 0:\n",
    "        return 1\n",
    "    if x >0:\n",
    "        while abs(term) > 1e-16:            ##It will give calculated terms upto 16th term after decimal.\n",
    "            term = term*x/i\n",
    "            sum = sum + term\n",
    "            i = i + 1\n",
    "        return sum\n",
    "    if x <0:\n",
    "        x = -x        \n",
    "        while abs(term) > 1e-16:            ##It will give calculated terms upto 16th term after decimal.\n",
    "            term = term*x/i\n",
    "            sum = sum + term\n",
    "            i = i + 1\n",
    "        return 1/sum\n",
    "\n",
    "\n",
    "print(f\"Exponential of {input} is: {exp_new(input):0.16e}\")"
   ]
  },
  {
   "cell_type": "markdown",
   "metadata": {},
   "source": [
    "This is much more closer to the numpy value"
   ]
  },
  {
   "cell_type": "markdown",
   "metadata": {},
   "source": [
    "## <span style=\"color: red;\"> 2 </span>"
   ]
  },
  {
   "cell_type": "markdown",
   "metadata": {},
   "source": []
  }
 ],
 "metadata": {
  "kernelspec": {
   "display_name": "shear_env",
   "language": "python",
   "name": "python3"
  },
  "language_info": {
   "codemirror_mode": {
    "name": "ipython",
    "version": 3
   },
   "file_extension": ".py",
   "mimetype": "text/x-python",
   "name": "python",
   "nbconvert_exporter": "python",
   "pygments_lexer": "ipython3",
   "version": "3.9.20"
  }
 },
 "nbformat": 4,
 "nbformat_minor": 2
}
